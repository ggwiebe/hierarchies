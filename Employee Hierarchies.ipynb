{
 "cells": [
  {
   "cell_type": "markdown",
   "metadata": {
    "application/vnd.databricks.v1+cell": {
     "cellMetadata": {},
     "inputWidgets": {},
     "nuid": "bc2950bf-233e-4677-bdeb-cea16eb15bf5",
     "showTitle": false,
     "tableResultSettingsMap": {},
     "title": ""
    }
   },
   "source": [
    "## Configure - Environment"
   ]
  },
  {
   "cell_type": "code",
   "execution_count": 0,
   "metadata": {
    "application/vnd.databricks.v1+cell": {
     "cellMetadata": {
      "byteLimit": 2048000,
      "implicitDf": true,
      "rowLimit": 10000
     },
     "inputWidgets": {},
     "nuid": "6ea9086f-884f-4c18-a55d-d6f6d8dcac17",
     "showTitle": true,
     "tableResultSettingsMap": {},
     "title": "Use catalog and schema"
    }
   },
   "outputs": [
    {
     "output_type": "display_data",
     "data": {
      "text/html": [
       "<style scoped>\n",
       "  .table-result-container {\n",
       "    max-height: 300px;\n",
       "    overflow: auto;\n",
       "  }\n",
       "  table, th, td {\n",
       "    border: 1px solid black;\n",
       "    border-collapse: collapse;\n",
       "  }\n",
       "  th, td {\n",
       "    padding: 5px;\n",
       "  }\n",
       "  th {\n",
       "    text-align: left;\n",
       "  }\n",
       "</style><div class='table-result-container'><table class='table-result'><thead style='background-color: white'><tr><th>current_catalog()</th><th>current_database()</th></tr></thead><tbody><tr><td>ggw</td><td>hr</td></tr></tbody></table></div>"
      ]
     },
     "metadata": {
      "application/vnd.databricks.v1+output": {
       "addedWidgets": {},
       "aggData": [],
       "aggError": "",
       "aggOverflow": false,
       "aggSchema": [],
       "aggSeriesLimitReached": false,
       "aggType": "",
       "arguments": {},
       "columnCustomDisplayInfos": {},
       "data": [
        [
         "ggw",
         "hr"
        ]
       ],
       "datasetInfos": [
        {
         "name": "_sqldf",
         "schema": {
          "fields": [
           {
            "metadata": {},
            "name": "current_catalog()",
            "nullable": false,
            "type": "string"
           },
           {
            "metadata": {},
            "name": "current_database()",
            "nullable": false,
            "type": "string"
           }
          ],
          "type": "struct"
         },
         "tableIdentifier": null,
         "typeStr": "pyspark.sql.connect.dataframe.DataFrame"
        }
       ],
       "dbfsResultPath": null,
       "isJsonSchema": true,
       "metadata": {
        "createTempViewForImplicitDf": true,
        "dataframeName": "_sqldf",
        "executionCount": 3
       },
       "overflow": false,
       "plotOptions": {
        "customPlotOptions": {},
        "displayType": "table",
        "pivotAggregation": null,
        "pivotColumns": null,
        "xColumns": null,
        "yColumns": null
       },
       "removedWidgets": [],
       "schema": [
        {
         "metadata": "{}",
         "name": "current_catalog()",
         "type": "\"string\""
        },
        {
         "metadata": "{}",
         "name": "current_database()",
         "type": "\"string\""
        }
       ],
       "type": "table"
      }
     },
     "output_type": "display_data"
    }
   ],
   "source": [
    "%sql\n",
    "USE CATALOG ggw;\n",
    "USE SCHEMA hr;\n",
    "\n",
    "SELECT current_catalog(), current_database();"
   ]
  },
  {
   "cell_type": "markdown",
   "metadata": {
    "application/vnd.databricks.v1+cell": {
     "cellMetadata": {},
     "inputWidgets": {},
     "nuid": "832f84a7-fbf5-4f09-acf9-e05c8cea8253",
     "showTitle": false,
     "tableResultSettingsMap": {},
     "title": ""
    }
   },
   "source": [
    "## Configure - Setup"
   ]
  },
  {
   "cell_type": "code",
   "execution_count": 0,
   "metadata": {
    "application/vnd.databricks.v1+cell": {
     "cellMetadata": {
      "byteLimit": 2048000,
      "implicitDf": true,
      "rowLimit": 10000
     },
     "inputWidgets": {},
     "nuid": "9ea34c87-a4e4-4606-8a67-a7b4c32d15da",
     "showTitle": true,
     "tableResultSettingsMap": {},
     "title": "Create Table"
    }
   },
   "outputs": [
    {
     "output_type": "display_data",
     "data": {
      "text/html": [
       "<style scoped>\n",
       "  .table-result-container {\n",
       "    max-height: 300px;\n",
       "    overflow: auto;\n",
       "  }\n",
       "  table, th, td {\n",
       "    border: 1px solid black;\n",
       "    border-collapse: collapse;\n",
       "  }\n",
       "  th, td {\n",
       "    padding: 5px;\n",
       "  }\n",
       "  th {\n",
       "    text-align: left;\n",
       "  }\n",
       "</style><div class='table-result-container'><table class='table-result'><thead style='background-color: white'><tr><th>EmployeeID</th><th>Name</th><th>ManagerID</th><th>ManagementHierarchy</th></tr></thead><tbody></tbody></table></div>"
      ]
     },
     "metadata": {
      "application/vnd.databricks.v1+output": {
       "addedWidgets": {},
       "aggData": [],
       "aggError": "",
       "aggOverflow": false,
       "aggSchema": [],
       "aggSeriesLimitReached": false,
       "aggType": "",
       "arguments": {},
       "columnCustomDisplayInfos": {},
       "data": [],
       "datasetInfos": [
        {
         "name": "_sqldf",
         "schema": {
          "fields": [
           {
            "metadata": {},
            "name": "EmployeeID",
            "nullable": false,
            "type": "integer"
           },
           {
            "metadata": {
             "__CHAR_VARCHAR_TYPE_STRING": "varchar(100)"
            },
            "name": "Name",
            "nullable": true,
            "type": "string"
           },
           {
            "metadata": {},
            "name": "ManagerID",
            "nullable": true,
            "type": "integer"
           },
           {
            "metadata": {},
            "name": "ManagementHierarchy",
            "nullable": true,
            "type": "string"
           }
          ],
          "type": "struct"
         },
         "tableIdentifier": null,
         "typeStr": "pyspark.sql.connect.dataframe.DataFrame"
        }
       ],
       "dbfsResultPath": null,
       "isJsonSchema": true,
       "metadata": {
        "createTempViewForImplicitDf": true,
        "dataframeName": "_sqldf",
        "executionCount": 131
       },
       "overflow": false,
       "plotOptions": {
        "customPlotOptions": {},
        "displayType": "table",
        "pivotAggregation": null,
        "pivotColumns": null,
        "xColumns": null,
        "yColumns": null
       },
       "removedWidgets": [],
       "schema": [
        {
         "metadata": "{}",
         "name": "EmployeeID",
         "type": "\"integer\""
        },
        {
         "metadata": "{\"__CHAR_VARCHAR_TYPE_STRING\": \"varchar(100)\"}",
         "name": "Name",
         "type": "\"string\""
        },
        {
         "metadata": "{}",
         "name": "ManagerID",
         "type": "\"integer\""
        },
        {
         "metadata": "{}",
         "name": "ManagementHierarchy",
         "type": "\"string\""
        }
       ],
       "type": "table"
      }
     },
     "output_type": "display_data"
    }
   ],
   "source": [
    "%sql\n",
    "CREATE OR REPLACE TABLE Employees (\n",
    "    EmployeeID INT PRIMARY KEY,\n",
    "    Name VARCHAR(100),\n",
    "    ManagerID INT,\n",
    "    ManagementHierarchy STRING\n",
    ");\n",
    "\n",
    "SELECT *\n",
    "  FROM employees;"
   ]
  },
  {
   "cell_type": "code",
   "execution_count": 0,
   "metadata": {
    "application/vnd.databricks.v1+cell": {
     "cellMetadata": {
      "byteLimit": 2048000,
      "rowLimit": 10000
     },
     "inputWidgets": {},
     "nuid": "0a1c763d-e0da-4e0e-8fbc-6fba1a9fc7ed",
     "showTitle": true,
     "tableResultSettingsMap": {},
     "title": "Initialize table with data"
    }
   },
   "outputs": [
    {
     "output_type": "display_data",
     "data": {
      "text/html": [
       "<style scoped>\n",
       "  .table-result-container {\n",
       "    max-height: 300px;\n",
       "    overflow: auto;\n",
       "  }\n",
       "  table, th, td {\n",
       "    border: 1px solid black;\n",
       "    border-collapse: collapse;\n",
       "  }\n",
       "  th, td {\n",
       "    padding: 5px;\n",
       "  }\n",
       "  th {\n",
       "    text-align: left;\n",
       "  }\n",
       "</style><div class='table-result-container'><table class='table-result'><thead style='background-color: white'><tr><th>EmployeeID</th><th>Name</th><th>ManagerID</th><th>ManagementHierarchy</th></tr></thead><tbody><tr><td>1</td><td>Alice</td><td>0</td><td>null</td></tr><tr><td>2</td><td>Bob</td><td>1</td><td>1</td></tr><tr><td>3</td><td>Charlie</td><td>1</td><td>1</td></tr><tr><td>4</td><td>David</td><td>2</td><td>2</td></tr><tr><td>5</td><td>Eve</td><td>2</td><td>2</td></tr><tr><td>6</td><td>Frank</td><td>3</td><td>3</td></tr><tr><td>7</td><td>Grace</td><td>3</td><td>3</td></tr><tr><td>8</td><td>Hank</td><td>4</td><td>4</td></tr><tr><td>9</td><td>Ivy</td><td>4</td><td>4</td></tr><tr><td>10</td><td>Jack</td><td>5</td><td>5</td></tr><tr><td>11</td><td>Karen</td><td>5</td><td>5</td></tr><tr><td>12</td><td>Leo</td><td>6</td><td>6</td></tr><tr><td>13</td><td>Mona</td><td>6</td><td>6</td></tr><tr><td>14</td><td>Nina</td><td>7</td><td>7</td></tr><tr><td>15</td><td>Oscar</td><td>7</td><td>7</td></tr><tr><td>16</td><td>Paul</td><td>8</td><td>8</td></tr><tr><td>17</td><td>Quinn</td><td>8</td><td>8</td></tr><tr><td>18</td><td>Rose</td><td>9</td><td>9</td></tr><tr><td>19</td><td>Steve</td><td>9</td><td>9</td></tr><tr><td>20</td><td>Tina</td><td>10</td><td>10</td></tr></tbody></table></div>"
      ]
     },
     "metadata": {
      "application/vnd.databricks.v1+output": {
       "addedWidgets": {},
       "aggData": [],
       "aggError": "",
       "aggOverflow": false,
       "aggSchema": [],
       "aggSeriesLimitReached": false,
       "aggType": "",
       "arguments": {},
       "columnCustomDisplayInfos": {},
       "data": [
        [
         1,
         "Alice",
         0,
         null
        ],
        [
         2,
         "Bob",
         1,
         "1"
        ],
        [
         3,
         "Charlie",
         1,
         "1"
        ],
        [
         4,
         "David",
         2,
         "2"
        ],
        [
         5,
         "Eve",
         2,
         "2"
        ],
        [
         6,
         "Frank",
         3,
         "3"
        ],
        [
         7,
         "Grace",
         3,
         "3"
        ],
        [
         8,
         "Hank",
         4,
         "4"
        ],
        [
         9,
         "Ivy",
         4,
         "4"
        ],
        [
         10,
         "Jack",
         5,
         "5"
        ],
        [
         11,
         "Karen",
         5,
         "5"
        ],
        [
         12,
         "Leo",
         6,
         "6"
        ],
        [
         13,
         "Mona",
         6,
         "6"
        ],
        [
         14,
         "Nina",
         7,
         "7"
        ],
        [
         15,
         "Oscar",
         7,
         "7"
        ],
        [
         16,
         "Paul",
         8,
         "8"
        ],
        [
         17,
         "Quinn",
         8,
         "8"
        ],
        [
         18,
         "Rose",
         9,
         "9"
        ],
        [
         19,
         "Steve",
         9,
         "9"
        ],
        [
         20,
         "Tina",
         10,
         "10"
        ]
       ],
       "datasetInfos": [],
       "dbfsResultPath": null,
       "isJsonSchema": true,
       "metadata": {},
       "overflow": false,
       "plotOptions": {
        "customPlotOptions": {},
        "displayType": "table",
        "pivotAggregation": null,
        "pivotColumns": null,
        "xColumns": null,
        "yColumns": null
       },
       "removedWidgets": [],
       "schema": [
        {
         "metadata": "{}",
         "name": "EmployeeID",
         "type": "\"integer\""
        },
        {
         "metadata": "{}",
         "name": "Name",
         "type": "\"string\""
        },
        {
         "metadata": "{}",
         "name": "ManagerID",
         "type": "\"integer\""
        },
        {
         "metadata": "{}",
         "name": "ManagementHierarchy",
         "type": "\"string\""
        }
       ],
       "type": "table"
      }
     },
     "output_type": "display_data"
    }
   ],
   "source": [
    "from pyspark.sql.types import StructType, StructField, IntegerType, StringType\n",
    "\n",
    "# Define the schema\n",
    "schema = StructType([\n",
    "    StructField(\"EmployeeID\", IntegerType(), True),\n",
    "    StructField(\"Name\", StringType(), True),\n",
    "    StructField(\"ManagerID\", IntegerType(), True),\n",
    "    StructField(\"ManagementHierarchy\", StringType(), True)\n",
    "])\n",
    "\n",
    "# Create sample data for the Employees table\n",
    "data = [\n",
    "    # (1, 'Alice', None),\n",
    "    (1, 'Alice', 0, None),\n",
    "    (2, 'Bob', 1, 1),\n",
    "    (3, 'Charlie', 1, 1),\n",
    "    (4, 'David', 2, 2),\n",
    "    (5, 'Eve', 2, 2),\n",
    "    (6, 'Frank', 3, 3),\n",
    "    (7, 'Grace', 3, 3),\n",
    "    (8, 'Hank', 4, 4),\n",
    "    (9, 'Ivy', 4, 4),\n",
    "    (10, 'Jack', 5, 5),\n",
    "    (11, 'Karen', 5, 5),\n",
    "    (12, 'Leo', 6, 6),\n",
    "    (13, 'Mona', 6, 6),\n",
    "    (14, 'Nina', 7, 7),\n",
    "    (15, 'Oscar', 7, 7),\n",
    "    (16, 'Paul', 8, 8),\n",
    "    (17, 'Quinn', 8, 8),\n",
    "    (18, 'Rose', 9, 9),\n",
    "    (19, 'Steve', 9, 9),\n",
    "    (20, 'Tina', 10, 10)\n",
    "]\n",
    "\n",
    "# Create a Spark DataFrame using the schema\n",
    "spark_df = spark.createDataFrame(data, schema)\n",
    "\n",
    "# Display the sample data\n",
    "display(spark_df)\n",
    "\n",
    "# Create the table schema\n",
    "spark.sql(\"\"\"\n",
    "CREATE TABLE IF NOT EXISTS employees (\n",
    "    EmployeeID INT,\n",
    "    Name STRING,\n",
    "    ManagerID INT,\n",
    "    ManagementHierarchy STRING\n",
    ")\n",
    "\"\"\")\n",
    "\n",
    "# Save the Spark DataFrame as a table with overwrite mode\n",
    "# spark_df.write.mode('append').saveAsTable('employees')\n",
    "spark_df.write.mode('overwrite').saveAsTable('employees')"
   ]
  },
  {
   "cell_type": "markdown",
   "metadata": {
    "application/vnd.databricks.v1+cell": {
     "cellMetadata": {},
     "inputWidgets": {},
     "nuid": "3d797b4f-e5eb-4490-8ab9-07285365a88b",
     "showTitle": false,
     "tableResultSettingsMap": {},
     "title": ""
    }
   },
   "source": [
    "## Management Hierarchy Logic  \n",
    "  \n",
    "1. Self-join to employee (alias \"Manager\")\n",
    "2. If the Last Management Hierarchy ManagerID was Top/\"0\" then stop (i.e. only repeat for non-0 records)"
   ]
  },
  {
   "cell_type": "code",
   "execution_count": 0,
   "metadata": {
    "application/vnd.databricks.v1+cell": {
     "cellMetadata": {
      "byteLimit": 2048000,
      "implicitDf": true,
      "rowLimit": 10000
     },
     "collapsed": true,
     "inputWidgets": {},
     "nuid": "a18b5cf9-03e9-4d7b-a4ca-051f4fec1136",
     "showTitle": true,
     "tableResultSettingsMap": {},
     "title": "Query the hierarchy when not at top"
    }
   },
   "outputs": [
    {
     "output_type": "display_data",
     "data": {
      "text/html": [
       "<style scoped>\n",
       "  .table-result-container {\n",
       "    max-height: 300px;\n",
       "    overflow: auto;\n",
       "  }\n",
       "  table, th, td {\n",
       "    border: 1px solid black;\n",
       "    border-collapse: collapse;\n",
       "  }\n",
       "  th, td {\n",
       "    padding: 5px;\n",
       "  }\n",
       "  th {\n",
       "    text-align: left;\n",
       "  }\n",
       "</style><div class='table-result-container'><table class='table-result'><thead style='background-color: white'><tr><th>EmployeeID</th><th>Name</th><th>ManagerID</th><th>ManagementHierarchy</th><th>LastHierarchyManagerID</th><th>ManagersManagerID</th></tr></thead><tbody><tr><td>4</td><td>David</td><td>2</td><td>2</td><td>2</td><td>1</td></tr><tr><td>5</td><td>Eve</td><td>2</td><td>2</td><td>2</td><td>1</td></tr><tr><td>6</td><td>Frank</td><td>3</td><td>3</td><td>3</td><td>1</td></tr><tr><td>7</td><td>Grace</td><td>3</td><td>3</td><td>3</td><td>1</td></tr><tr><td>8</td><td>Hank</td><td>4</td><td>4</td><td>4</td><td>2</td></tr><tr><td>9</td><td>Ivy</td><td>4</td><td>4</td><td>4</td><td>2</td></tr><tr><td>10</td><td>Jack</td><td>5</td><td>5</td><td>5</td><td>2</td></tr><tr><td>11</td><td>Karen</td><td>5</td><td>5</td><td>5</td><td>2</td></tr><tr><td>12</td><td>Leo</td><td>6</td><td>6</td><td>6</td><td>3</td></tr><tr><td>13</td><td>Mona</td><td>6</td><td>6</td><td>6</td><td>3</td></tr><tr><td>14</td><td>Nina</td><td>7</td><td>7</td><td>7</td><td>3</td></tr><tr><td>15</td><td>Oscar</td><td>7</td><td>7</td><td>7</td><td>3</td></tr><tr><td>16</td><td>Paul</td><td>8</td><td>8</td><td>8</td><td>4</td></tr><tr><td>17</td><td>Quinn</td><td>8</td><td>8</td><td>8</td><td>4</td></tr><tr><td>18</td><td>Rose</td><td>9</td><td>9</td><td>9</td><td>4</td></tr><tr><td>19</td><td>Steve</td><td>9</td><td>9</td><td>9</td><td>4</td></tr><tr><td>20</td><td>Tina</td><td>10</td><td>10</td><td>10</td><td>5</td></tr></tbody></table></div>"
      ]
     },
     "metadata": {
      "application/vnd.databricks.v1+output": {
       "addedWidgets": {},
       "aggData": [],
       "aggError": "",
       "aggOverflow": false,
       "aggSchema": [],
       "aggSeriesLimitReached": false,
       "aggType": "",
       "arguments": {},
       "columnCustomDisplayInfos": {},
       "data": [
        [
         4,
         "David",
         2,
         "2",
         "2",
         1
        ],
        [
         5,
         "Eve",
         2,
         "2",
         "2",
         1
        ],
        [
         6,
         "Frank",
         3,
         "3",
         "3",
         1
        ],
        [
         7,
         "Grace",
         3,
         "3",
         "3",
         1
        ],
        [
         8,
         "Hank",
         4,
         "4",
         "4",
         2
        ],
        [
         9,
         "Ivy",
         4,
         "4",
         "4",
         2
        ],
        [
         10,
         "Jack",
         5,
         "5",
         "5",
         2
        ],
        [
         11,
         "Karen",
         5,
         "5",
         "5",
         2
        ],
        [
         12,
         "Leo",
         6,
         "6",
         "6",
         3
        ],
        [
         13,
         "Mona",
         6,
         "6",
         "6",
         3
        ],
        [
         14,
         "Nina",
         7,
         "7",
         "7",
         3
        ],
        [
         15,
         "Oscar",
         7,
         "7",
         "7",
         3
        ],
        [
         16,
         "Paul",
         8,
         "8",
         "8",
         4
        ],
        [
         17,
         "Quinn",
         8,
         "8",
         "8",
         4
        ],
        [
         18,
         "Rose",
         9,
         "9",
         "9",
         4
        ],
        [
         19,
         "Steve",
         9,
         "9",
         "9",
         4
        ],
        [
         20,
         "Tina",
         10,
         "10",
         "10",
         5
        ]
       ],
       "datasetInfos": [
        {
         "name": "_sqldf",
         "schema": {
          "fields": [
           {
            "metadata": {},
            "name": "EmployeeID",
            "nullable": false,
            "type": "integer"
           },
           {
            "metadata": {
             "__CHAR_VARCHAR_TYPE_STRING": "varchar(100)"
            },
            "name": "Name",
            "nullable": true,
            "type": "string"
           },
           {
            "metadata": {},
            "name": "ManagerID",
            "nullable": true,
            "type": "integer"
           },
           {
            "metadata": {},
            "name": "ManagementHierarchy",
            "nullable": true,
            "type": "string"
           },
           {
            "metadata": {},
            "name": "LastHierarchyManagerID",
            "nullable": false,
            "type": "string"
           },
           {
            "metadata": {},
            "name": "ManagersManagerID",
            "nullable": true,
            "type": "integer"
           }
          ],
          "type": "struct"
         },
         "tableIdentifier": null,
         "typeStr": "pyspark.sql.connect.dataframe.DataFrame"
        }
       ],
       "dbfsResultPath": null,
       "isJsonSchema": true,
       "metadata": {
        "createTempViewForImplicitDf": true,
        "dataframeName": "_sqldf",
        "executionCount": 77
       },
       "overflow": false,
       "plotOptions": {
        "customPlotOptions": {},
        "displayType": "table",
        "pivotAggregation": null,
        "pivotColumns": null,
        "xColumns": null,
        "yColumns": null
       },
       "removedWidgets": [],
       "schema": [
        {
         "metadata": "{}",
         "name": "EmployeeID",
         "type": "\"integer\""
        },
        {
         "metadata": "{\"__CHAR_VARCHAR_TYPE_STRING\": \"varchar(100)\"}",
         "name": "Name",
         "type": "\"string\""
        },
        {
         "metadata": "{}",
         "name": "ManagerID",
         "type": "\"integer\""
        },
        {
         "metadata": "{}",
         "name": "ManagementHierarchy",
         "type": "\"string\""
        },
        {
         "metadata": "{}",
         "name": "LastHierarchyManagerID",
         "type": "\"string\""
        },
        {
         "metadata": "{}",
         "name": "ManagersManagerID",
         "type": "\"integer\""
        }
       ],
       "type": "table"
      }
     },
     "output_type": "display_data"
    }
   ],
   "source": [
    "%sql\n",
    "SELECT e.*,\n",
    "       SPLIT(e.ManagementHierarchy, '-')[SIZE(SPLIT(e.ManagementHierarchy, '-')) - 1] AS LastHierarchyManagerID,\n",
    "       m.ManagerID AS ManagersManagerID\n",
    "  FROM employees e\n",
    "  JOIN employees m ON SPLIT(e.ManagementHierarchy, '-')[SIZE(SPLIT(e.ManagementHierarchy, '-')) - 1] = m.EmployeeID\n",
    " WHERE m.ManagerID != 0 -- Don't update if you are the top already\n",
    " ORDER BY e.EmployeeID ASC\n",
    ";"
   ]
  },
  {
   "cell_type": "code",
   "execution_count": 0,
   "metadata": {
    "application/vnd.databricks.v1+cell": {
     "cellMetadata": {
      "byteLimit": 2048000,
      "implicitDf": true,
      "rowLimit": 10000
     },
     "collapsed": true,
     "inputWidgets": {},
     "nuid": "c0d80419-51cf-4c17-a77a-72f8d1936b45",
     "showTitle": true,
     "tableResultSettingsMap": {},
     "title": "For those rows, merge the next ancestry level"
    }
   },
   "outputs": [
    {
     "output_type": "display_data",
     "data": {
      "text/html": [
       "<style scoped>\n",
       "  .table-result-container {\n",
       "    max-height: 300px;\n",
       "    overflow: auto;\n",
       "  }\n",
       "  table, th, td {\n",
       "    border: 1px solid black;\n",
       "    border-collapse: collapse;\n",
       "  }\n",
       "  th, td {\n",
       "    padding: 5px;\n",
       "  }\n",
       "  th {\n",
       "    text-align: left;\n",
       "  }\n",
       "</style><div class='table-result-container'><table class='table-result'><thead style='background-color: white'><tr><th>EmployeeID</th><th>Name</th><th>ManagerID</th><th>ManagementHierarchy</th></tr></thead><tbody><tr><td>1</td><td>Alice</td><td>0</td><td>null</td></tr><tr><td>2</td><td>Bob</td><td>1</td><td>1</td></tr><tr><td>3</td><td>Charlie</td><td>1</td><td>1</td></tr><tr><td>4</td><td>David</td><td>2</td><td>2-1</td></tr><tr><td>5</td><td>Eve</td><td>2</td><td>2-1</td></tr><tr><td>6</td><td>Frank</td><td>3</td><td>3-1</td></tr><tr><td>7</td><td>Grace</td><td>3</td><td>3-1</td></tr><tr><td>8</td><td>Hank</td><td>4</td><td>4-2</td></tr><tr><td>9</td><td>Ivy</td><td>4</td><td>4-2</td></tr><tr><td>10</td><td>Jack</td><td>5</td><td>5-2</td></tr><tr><td>11</td><td>Karen</td><td>5</td><td>5-2</td></tr><tr><td>12</td><td>Leo</td><td>6</td><td>6-3</td></tr><tr><td>13</td><td>Mona</td><td>6</td><td>6-3</td></tr><tr><td>14</td><td>Nina</td><td>7</td><td>7-3</td></tr><tr><td>15</td><td>Oscar</td><td>7</td><td>7-3</td></tr><tr><td>16</td><td>Paul</td><td>8</td><td>8-4</td></tr><tr><td>17</td><td>Quinn</td><td>8</td><td>8-4</td></tr><tr><td>18</td><td>Rose</td><td>9</td><td>9-4</td></tr><tr><td>19</td><td>Steve</td><td>9</td><td>9-4</td></tr><tr><td>20</td><td>Tina</td><td>10</td><td>10-5</td></tr></tbody></table></div>"
      ]
     },
     "metadata": {
      "application/vnd.databricks.v1+output": {
       "addedWidgets": {},
       "aggData": [],
       "aggError": "",
       "aggOverflow": false,
       "aggSchema": [],
       "aggSeriesLimitReached": false,
       "aggType": "",
       "arguments": {},
       "columnCustomDisplayInfos": {},
       "data": [
        [
         1,
         "Alice",
         0,
         null
        ],
        [
         2,
         "Bob",
         1,
         "1"
        ],
        [
         3,
         "Charlie",
         1,
         "1"
        ],
        [
         4,
         "David",
         2,
         "2-1"
        ],
        [
         5,
         "Eve",
         2,
         "2-1"
        ],
        [
         6,
         "Frank",
         3,
         "3-1"
        ],
        [
         7,
         "Grace",
         3,
         "3-1"
        ],
        [
         8,
         "Hank",
         4,
         "4-2"
        ],
        [
         9,
         "Ivy",
         4,
         "4-2"
        ],
        [
         10,
         "Jack",
         5,
         "5-2"
        ],
        [
         11,
         "Karen",
         5,
         "5-2"
        ],
        [
         12,
         "Leo",
         6,
         "6-3"
        ],
        [
         13,
         "Mona",
         6,
         "6-3"
        ],
        [
         14,
         "Nina",
         7,
         "7-3"
        ],
        [
         15,
         "Oscar",
         7,
         "7-3"
        ],
        [
         16,
         "Paul",
         8,
         "8-4"
        ],
        [
         17,
         "Quinn",
         8,
         "8-4"
        ],
        [
         18,
         "Rose",
         9,
         "9-4"
        ],
        [
         19,
         "Steve",
         9,
         "9-4"
        ],
        [
         20,
         "Tina",
         10,
         "10-5"
        ]
       ],
       "datasetInfos": [
        {
         "name": "_sqldf",
         "schema": {
          "fields": [
           {
            "metadata": {},
            "name": "EmployeeID",
            "nullable": false,
            "type": "integer"
           },
           {
            "metadata": {
             "__CHAR_VARCHAR_TYPE_STRING": "varchar(100)"
            },
            "name": "Name",
            "nullable": true,
            "type": "string"
           },
           {
            "metadata": {},
            "name": "ManagerID",
            "nullable": true,
            "type": "integer"
           },
           {
            "metadata": {},
            "name": "ManagementHierarchy",
            "nullable": true,
            "type": "string"
           }
          ],
          "type": "struct"
         },
         "tableIdentifier": null,
         "typeStr": "pyspark.sql.connect.dataframe.DataFrame"
        }
       ],
       "dbfsResultPath": null,
       "isJsonSchema": true,
       "metadata": {
        "createTempViewForImplicitDf": true,
        "dataframeName": "_sqldf",
        "executionCount": 56
       },
       "overflow": false,
       "plotOptions": {
        "customPlotOptions": {},
        "displayType": "table",
        "pivotAggregation": null,
        "pivotColumns": null,
        "xColumns": null,
        "yColumns": null
       },
       "removedWidgets": [],
       "schema": [
        {
         "metadata": "{}",
         "name": "EmployeeID",
         "type": "\"integer\""
        },
        {
         "metadata": "{\"__CHAR_VARCHAR_TYPE_STRING\": \"varchar(100)\"}",
         "name": "Name",
         "type": "\"string\""
        },
        {
         "metadata": "{}",
         "name": "ManagerID",
         "type": "\"integer\""
        },
        {
         "metadata": "{}",
         "name": "ManagementHierarchy",
         "type": "\"string\""
        }
       ],
       "type": "table"
      }
     },
     "output_type": "display_data"
    }
   ],
   "source": [
    "%sql\n",
    "WITH EmployeeHierarchy AS (\n",
    "  SELECT e.EmployeeID,\n",
    "         e.ManagementHierarchy,\n",
    "         SPLIT(e.ManagementHierarchy, '-')[SIZE(SPLIT(e.ManagementHierarchy, '-')) - 1] AS LastHierarchyManagerID,\n",
    "         m.ManagerID AS ManagersManagerID\n",
    "    FROM employees e\n",
    "    JOIN employees m ON CAST(SPLIT(e.ManagementHierarchy, '-')[SIZE(SPLIT(e.ManagementHierarchy, '-')) - 1] AS INT) = m.EmployeeID\n",
    "   WHERE m.ManagerID != 0 -- Don't update if you are the top already\n",
    ")\n",
    "MERGE INTO employees e\n",
    "USING EmployeeHierarchy eh\n",
    "ON e.EmployeeID = eh.EmployeeID\n",
    "WHEN MATCHED\n",
    "THEN UPDATE SET e.ManagementHierarchy = CONCAT(e.ManagementHierarchy, '-', COALESCE(eh.ManagersManagerID, '0'));\n",
    "\n",
    "SELECT *\n",
    "  FROM employees;"
   ]
  },
  {
   "cell_type": "code",
   "execution_count": 0,
   "metadata": {
    "application/vnd.databricks.v1+cell": {
     "cellMetadata": {
      "byteLimit": 2048000,
      "implicitDf": true,
      "rowLimit": 10000
     },
     "collapsed": true,
     "inputWidgets": {},
     "nuid": "be7b4368-f02d-4ab7-8261-444b4df35471",
     "showTitle": true,
     "tableResultSettingsMap": {},
     "title": "Query for next ancestry level"
    }
   },
   "outputs": [
    {
     "output_type": "display_data",
     "data": {
      "text/html": [
       "<style scoped>\n",
       "  .table-result-container {\n",
       "    max-height: 300px;\n",
       "    overflow: auto;\n",
       "  }\n",
       "  table, th, td {\n",
       "    border: 1px solid black;\n",
       "    border-collapse: collapse;\n",
       "  }\n",
       "  th, td {\n",
       "    padding: 5px;\n",
       "  }\n",
       "  th {\n",
       "    text-align: left;\n",
       "  }\n",
       "</style><div class='table-result-container'><table class='table-result'><thead style='background-color: white'><tr><th>EmployeeID</th><th>Name</th><th>ManagerID</th><th>ManagementHierarchy</th><th>LastHierarchyManagerID</th><th>ManagersManagerID</th></tr></thead><tbody><tr><td>8</td><td>Hank</td><td>4</td><td>4-2</td><td>2</td><td>1</td></tr><tr><td>9</td><td>Ivy</td><td>4</td><td>4-2</td><td>2</td><td>1</td></tr><tr><td>10</td><td>Jack</td><td>5</td><td>5-2</td><td>2</td><td>1</td></tr><tr><td>11</td><td>Karen</td><td>5</td><td>5-2</td><td>2</td><td>1</td></tr><tr><td>12</td><td>Leo</td><td>6</td><td>6-3</td><td>3</td><td>1</td></tr><tr><td>13</td><td>Mona</td><td>6</td><td>6-3</td><td>3</td><td>1</td></tr><tr><td>14</td><td>Nina</td><td>7</td><td>7-3</td><td>3</td><td>1</td></tr><tr><td>15</td><td>Oscar</td><td>7</td><td>7-3</td><td>3</td><td>1</td></tr><tr><td>16</td><td>Paul</td><td>8</td><td>8-4</td><td>4</td><td>2</td></tr><tr><td>17</td><td>Quinn</td><td>8</td><td>8-4</td><td>4</td><td>2</td></tr><tr><td>18</td><td>Rose</td><td>9</td><td>9-4</td><td>4</td><td>2</td></tr><tr><td>19</td><td>Steve</td><td>9</td><td>9-4</td><td>4</td><td>2</td></tr><tr><td>20</td><td>Tina</td><td>10</td><td>10-5</td><td>5</td><td>2</td></tr></tbody></table></div>"
      ]
     },
     "metadata": {
      "application/vnd.databricks.v1+output": {
       "addedWidgets": {},
       "aggData": [],
       "aggError": "",
       "aggOverflow": false,
       "aggSchema": [],
       "aggSeriesLimitReached": false,
       "aggType": "",
       "arguments": {},
       "columnCustomDisplayInfos": {},
       "data": [
        [
         8,
         "Hank",
         4,
         "4-2",
         "2",
         1
        ],
        [
         9,
         "Ivy",
         4,
         "4-2",
         "2",
         1
        ],
        [
         10,
         "Jack",
         5,
         "5-2",
         "2",
         1
        ],
        [
         11,
         "Karen",
         5,
         "5-2",
         "2",
         1
        ],
        [
         12,
         "Leo",
         6,
         "6-3",
         "3",
         1
        ],
        [
         13,
         "Mona",
         6,
         "6-3",
         "3",
         1
        ],
        [
         14,
         "Nina",
         7,
         "7-3",
         "3",
         1
        ],
        [
         15,
         "Oscar",
         7,
         "7-3",
         "3",
         1
        ],
        [
         16,
         "Paul",
         8,
         "8-4",
         "4",
         2
        ],
        [
         17,
         "Quinn",
         8,
         "8-4",
         "4",
         2
        ],
        [
         18,
         "Rose",
         9,
         "9-4",
         "4",
         2
        ],
        [
         19,
         "Steve",
         9,
         "9-4",
         "4",
         2
        ],
        [
         20,
         "Tina",
         10,
         "10-5",
         "5",
         2
        ]
       ],
       "datasetInfos": [
        {
         "name": "_sqldf",
         "schema": {
          "fields": [
           {
            "metadata": {},
            "name": "EmployeeID",
            "nullable": false,
            "type": "integer"
           },
           {
            "metadata": {
             "__CHAR_VARCHAR_TYPE_STRING": "varchar(100)"
            },
            "name": "Name",
            "nullable": true,
            "type": "string"
           },
           {
            "metadata": {},
            "name": "ManagerID",
            "nullable": true,
            "type": "integer"
           },
           {
            "metadata": {},
            "name": "ManagementHierarchy",
            "nullable": true,
            "type": "string"
           },
           {
            "metadata": {},
            "name": "LastHierarchyManagerID",
            "nullable": false,
            "type": "string"
           },
           {
            "metadata": {},
            "name": "ManagersManagerID",
            "nullable": true,
            "type": "integer"
           }
          ],
          "type": "struct"
         },
         "tableIdentifier": null,
         "typeStr": "pyspark.sql.connect.dataframe.DataFrame"
        }
       ],
       "dbfsResultPath": null,
       "isJsonSchema": true,
       "metadata": {
        "createTempViewForImplicitDf": true,
        "dataframeName": "_sqldf",
        "executionCount": 58
       },
       "overflow": false,
       "plotOptions": {
        "customPlotOptions": {},
        "displayType": "table",
        "pivotAggregation": null,
        "pivotColumns": null,
        "xColumns": null,
        "yColumns": null
       },
       "removedWidgets": [],
       "schema": [
        {
         "metadata": "{}",
         "name": "EmployeeID",
         "type": "\"integer\""
        },
        {
         "metadata": "{\"__CHAR_VARCHAR_TYPE_STRING\": \"varchar(100)\"}",
         "name": "Name",
         "type": "\"string\""
        },
        {
         "metadata": "{}",
         "name": "ManagerID",
         "type": "\"integer\""
        },
        {
         "metadata": "{}",
         "name": "ManagementHierarchy",
         "type": "\"string\""
        },
        {
         "metadata": "{}",
         "name": "LastHierarchyManagerID",
         "type": "\"string\""
        },
        {
         "metadata": "{}",
         "name": "ManagersManagerID",
         "type": "\"integer\""
        }
       ],
       "type": "table"
      }
     },
     "output_type": "display_data"
    }
   ],
   "source": [
    "%sql\n",
    "SELECT e.*,\n",
    "       SPLIT(e.ManagementHierarchy, '-')[SIZE(SPLIT(e.ManagementHierarchy, '-')) - 1] AS LastHierarchyManagerID,\n",
    "       m.ManagerID AS ManagersManagerID\n",
    "  FROM employees e\n",
    "  JOIN employees m ON SPLIT(e.ManagementHierarchy, '-')[SIZE(SPLIT(e.ManagementHierarchy, '-')) - 1] = m.EmployeeID\n",
    " WHERE m.ManagerID != 0 -- Don't update if you are the top already\n",
    " ORDER BY e.EmployeeID ASC\n",
    ";"
   ]
  },
  {
   "cell_type": "code",
   "execution_count": 0,
   "metadata": {
    "application/vnd.databricks.v1+cell": {
     "cellMetadata": {
      "byteLimit": 2048000,
      "implicitDf": true,
      "rowLimit": 10000
     },
     "collapsed": true,
     "inputWidgets": {},
     "nuid": "a4ac8db0-60f0-4623-89a7-b0c1fd99f124",
     "showTitle": true,
     "tableResultSettingsMap": {},
     "title": "merge to level 3"
    }
   },
   "outputs": [
    {
     "output_type": "display_data",
     "data": {
      "text/html": [
       "<style scoped>\n",
       "  .table-result-container {\n",
       "    max-height: 300px;\n",
       "    overflow: auto;\n",
       "  }\n",
       "  table, th, td {\n",
       "    border: 1px solid black;\n",
       "    border-collapse: collapse;\n",
       "  }\n",
       "  th, td {\n",
       "    padding: 5px;\n",
       "  }\n",
       "  th {\n",
       "    text-align: left;\n",
       "  }\n",
       "</style><div class='table-result-container'><table class='table-result'><thead style='background-color: white'><tr><th>EmployeeID</th><th>Name</th><th>ManagerID</th><th>ManagementHierarchy</th></tr></thead><tbody><tr><td>1</td><td>Alice</td><td>0</td><td>null</td></tr><tr><td>2</td><td>Bob</td><td>1</td><td>1</td></tr><tr><td>3</td><td>Charlie</td><td>1</td><td>1</td></tr><tr><td>4</td><td>David</td><td>2</td><td>2-1</td></tr><tr><td>5</td><td>Eve</td><td>2</td><td>2-1</td></tr><tr><td>6</td><td>Frank</td><td>3</td><td>3-1</td></tr><tr><td>7</td><td>Grace</td><td>3</td><td>3-1</td></tr><tr><td>8</td><td>Hank</td><td>4</td><td>4-2-1</td></tr><tr><td>9</td><td>Ivy</td><td>4</td><td>4-2-1</td></tr><tr><td>10</td><td>Jack</td><td>5</td><td>5-2-1</td></tr><tr><td>11</td><td>Karen</td><td>5</td><td>5-2-1</td></tr><tr><td>12</td><td>Leo</td><td>6</td><td>6-3-1</td></tr><tr><td>13</td><td>Mona</td><td>6</td><td>6-3-1</td></tr><tr><td>14</td><td>Nina</td><td>7</td><td>7-3-1</td></tr><tr><td>15</td><td>Oscar</td><td>7</td><td>7-3-1</td></tr><tr><td>16</td><td>Paul</td><td>8</td><td>8-4-2</td></tr><tr><td>17</td><td>Quinn</td><td>8</td><td>8-4-2</td></tr><tr><td>18</td><td>Rose</td><td>9</td><td>9-4-2</td></tr><tr><td>19</td><td>Steve</td><td>9</td><td>9-4-2</td></tr><tr><td>20</td><td>Tina</td><td>10</td><td>10-5-2</td></tr></tbody></table></div>"
      ]
     },
     "metadata": {
      "application/vnd.databricks.v1+output": {
       "addedWidgets": {},
       "aggData": [],
       "aggError": "",
       "aggOverflow": false,
       "aggSchema": [],
       "aggSeriesLimitReached": false,
       "aggType": "",
       "arguments": {},
       "columnCustomDisplayInfos": {},
       "data": [
        [
         1,
         "Alice",
         0,
         null
        ],
        [
         2,
         "Bob",
         1,
         "1"
        ],
        [
         3,
         "Charlie",
         1,
         "1"
        ],
        [
         4,
         "David",
         2,
         "2-1"
        ],
        [
         5,
         "Eve",
         2,
         "2-1"
        ],
        [
         6,
         "Frank",
         3,
         "3-1"
        ],
        [
         7,
         "Grace",
         3,
         "3-1"
        ],
        [
         8,
         "Hank",
         4,
         "4-2-1"
        ],
        [
         9,
         "Ivy",
         4,
         "4-2-1"
        ],
        [
         10,
         "Jack",
         5,
         "5-2-1"
        ],
        [
         11,
         "Karen",
         5,
         "5-2-1"
        ],
        [
         12,
         "Leo",
         6,
         "6-3-1"
        ],
        [
         13,
         "Mona",
         6,
         "6-3-1"
        ],
        [
         14,
         "Nina",
         7,
         "7-3-1"
        ],
        [
         15,
         "Oscar",
         7,
         "7-3-1"
        ],
        [
         16,
         "Paul",
         8,
         "8-4-2"
        ],
        [
         17,
         "Quinn",
         8,
         "8-4-2"
        ],
        [
         18,
         "Rose",
         9,
         "9-4-2"
        ],
        [
         19,
         "Steve",
         9,
         "9-4-2"
        ],
        [
         20,
         "Tina",
         10,
         "10-5-2"
        ]
       ],
       "datasetInfos": [
        {
         "name": "_sqldf",
         "schema": {
          "fields": [
           {
            "metadata": {},
            "name": "EmployeeID",
            "nullable": false,
            "type": "integer"
           },
           {
            "metadata": {
             "__CHAR_VARCHAR_TYPE_STRING": "varchar(100)"
            },
            "name": "Name",
            "nullable": true,
            "type": "string"
           },
           {
            "metadata": {},
            "name": "ManagerID",
            "nullable": true,
            "type": "integer"
           },
           {
            "metadata": {},
            "name": "ManagementHierarchy",
            "nullable": true,
            "type": "string"
           }
          ],
          "type": "struct"
         },
         "tableIdentifier": null,
         "typeStr": "pyspark.sql.connect.dataframe.DataFrame"
        }
       ],
       "dbfsResultPath": null,
       "isJsonSchema": true,
       "metadata": {
        "createTempViewForImplicitDf": true,
        "dataframeName": "_sqldf",
        "executionCount": 59
       },
       "overflow": false,
       "plotOptions": {
        "customPlotOptions": {},
        "displayType": "table",
        "pivotAggregation": null,
        "pivotColumns": null,
        "xColumns": null,
        "yColumns": null
       },
       "removedWidgets": [],
       "schema": [
        {
         "metadata": "{}",
         "name": "EmployeeID",
         "type": "\"integer\""
        },
        {
         "metadata": "{\"__CHAR_VARCHAR_TYPE_STRING\": \"varchar(100)\"}",
         "name": "Name",
         "type": "\"string\""
        },
        {
         "metadata": "{}",
         "name": "ManagerID",
         "type": "\"integer\""
        },
        {
         "metadata": "{}",
         "name": "ManagementHierarchy",
         "type": "\"string\""
        }
       ],
       "type": "table"
      }
     },
     "output_type": "display_data"
    }
   ],
   "source": [
    "%sql\n",
    "WITH EmployeeHierarchy AS (\n",
    "  SELECT e.EmployeeID,\n",
    "         e.ManagementHierarchy,\n",
    "         SPLIT(e.ManagementHierarchy, '-')[SIZE(SPLIT(e.ManagementHierarchy, '-')) - 1] AS LastHierarchyManagerID,\n",
    "         m.ManagerID AS ManagersManagerID\n",
    "    FROM employees e\n",
    "    JOIN employees m ON CAST(SPLIT(e.ManagementHierarchy, '-')[SIZE(SPLIT(e.ManagementHierarchy, '-')) - 1] AS INT) = m.EmployeeID\n",
    "   WHERE m.ManagerID != 0 -- Don't update if you are the top already\n",
    ")\n",
    "MERGE INTO employees e\n",
    "USING EmployeeHierarchy eh\n",
    "ON e.EmployeeID = eh.EmployeeID\n",
    "WHEN MATCHED\n",
    "THEN UPDATE SET e.ManagementHierarchy = CONCAT(e.ManagementHierarchy, '-', COALESCE(eh.ManagersManagerID, '0'));\n",
    "\n",
    "SELECT *\n",
    "  FROM employees;"
   ]
  },
  {
   "cell_type": "code",
   "execution_count": 0,
   "metadata": {
    "application/vnd.databricks.v1+cell": {
     "cellMetadata": {
      "byteLimit": 2048000,
      "implicitDf": true,
      "rowLimit": 10000
     },
     "collapsed": true,
     "inputWidgets": {},
     "nuid": "002f95fc-0c62-483a-83a7-078cdb401c6b",
     "showTitle": true,
     "tableResultSettingsMap": {},
     "title": "merge to level 4"
    }
   },
   "outputs": [
    {
     "output_type": "display_data",
     "data": {
      "text/html": [
       "<style scoped>\n",
       "  .table-result-container {\n",
       "    max-height: 300px;\n",
       "    overflow: auto;\n",
       "  }\n",
       "  table, th, td {\n",
       "    border: 1px solid black;\n",
       "    border-collapse: collapse;\n",
       "  }\n",
       "  th, td {\n",
       "    padding: 5px;\n",
       "  }\n",
       "  th {\n",
       "    text-align: left;\n",
       "  }\n",
       "</style><div class='table-result-container'><table class='table-result'><thead style='background-color: white'><tr><th>EmployeeID</th><th>Name</th><th>ManagerID</th><th>ManagementHierarchy</th></tr></thead><tbody><tr><td>1</td><td>Alice</td><td>0</td><td>null</td></tr><tr><td>2</td><td>Bob</td><td>1</td><td>1</td></tr><tr><td>3</td><td>Charlie</td><td>1</td><td>1</td></tr><tr><td>4</td><td>David</td><td>2</td><td>2-1</td></tr><tr><td>5</td><td>Eve</td><td>2</td><td>2-1</td></tr><tr><td>6</td><td>Frank</td><td>3</td><td>3-1</td></tr><tr><td>7</td><td>Grace</td><td>3</td><td>3-1</td></tr><tr><td>8</td><td>Hank</td><td>4</td><td>4-2-1</td></tr><tr><td>9</td><td>Ivy</td><td>4</td><td>4-2-1</td></tr><tr><td>10</td><td>Jack</td><td>5</td><td>5-2-1</td></tr><tr><td>11</td><td>Karen</td><td>5</td><td>5-2-1</td></tr><tr><td>12</td><td>Leo</td><td>6</td><td>6-3-1</td></tr><tr><td>13</td><td>Mona</td><td>6</td><td>6-3-1</td></tr><tr><td>14</td><td>Nina</td><td>7</td><td>7-3-1</td></tr><tr><td>15</td><td>Oscar</td><td>7</td><td>7-3-1</td></tr><tr><td>16</td><td>Paul</td><td>8</td><td>8-4-2-1</td></tr><tr><td>17</td><td>Quinn</td><td>8</td><td>8-4-2-1</td></tr><tr><td>18</td><td>Rose</td><td>9</td><td>9-4-2-1</td></tr><tr><td>19</td><td>Steve</td><td>9</td><td>9-4-2-1</td></tr><tr><td>20</td><td>Tina</td><td>10</td><td>10-5-2-1</td></tr></tbody></table></div>"
      ]
     },
     "metadata": {
      "application/vnd.databricks.v1+output": {
       "addedWidgets": {},
       "aggData": [],
       "aggError": "",
       "aggOverflow": false,
       "aggSchema": [],
       "aggSeriesLimitReached": false,
       "aggType": "",
       "arguments": {},
       "columnCustomDisplayInfos": {},
       "data": [
        [
         1,
         "Alice",
         0,
         null
        ],
        [
         2,
         "Bob",
         1,
         "1"
        ],
        [
         3,
         "Charlie",
         1,
         "1"
        ],
        [
         4,
         "David",
         2,
         "2-1"
        ],
        [
         5,
         "Eve",
         2,
         "2-1"
        ],
        [
         6,
         "Frank",
         3,
         "3-1"
        ],
        [
         7,
         "Grace",
         3,
         "3-1"
        ],
        [
         8,
         "Hank",
         4,
         "4-2-1"
        ],
        [
         9,
         "Ivy",
         4,
         "4-2-1"
        ],
        [
         10,
         "Jack",
         5,
         "5-2-1"
        ],
        [
         11,
         "Karen",
         5,
         "5-2-1"
        ],
        [
         12,
         "Leo",
         6,
         "6-3-1"
        ],
        [
         13,
         "Mona",
         6,
         "6-3-1"
        ],
        [
         14,
         "Nina",
         7,
         "7-3-1"
        ],
        [
         15,
         "Oscar",
         7,
         "7-3-1"
        ],
        [
         16,
         "Paul",
         8,
         "8-4-2-1"
        ],
        [
         17,
         "Quinn",
         8,
         "8-4-2-1"
        ],
        [
         18,
         "Rose",
         9,
         "9-4-2-1"
        ],
        [
         19,
         "Steve",
         9,
         "9-4-2-1"
        ],
        [
         20,
         "Tina",
         10,
         "10-5-2-1"
        ]
       ],
       "datasetInfos": [
        {
         "name": "_sqldf",
         "schema": {
          "fields": [
           {
            "metadata": {},
            "name": "EmployeeID",
            "nullable": false,
            "type": "integer"
           },
           {
            "metadata": {
             "__CHAR_VARCHAR_TYPE_STRING": "varchar(100)"
            },
            "name": "Name",
            "nullable": true,
            "type": "string"
           },
           {
            "metadata": {},
            "name": "ManagerID",
            "nullable": true,
            "type": "integer"
           },
           {
            "metadata": {},
            "name": "ManagementHierarchy",
            "nullable": true,
            "type": "string"
           }
          ],
          "type": "struct"
         },
         "tableIdentifier": null,
         "typeStr": "pyspark.sql.connect.dataframe.DataFrame"
        }
       ],
       "dbfsResultPath": null,
       "isJsonSchema": true,
       "metadata": {
        "createTempViewForImplicitDf": true,
        "dataframeName": "_sqldf",
        "executionCount": 60
       },
       "overflow": false,
       "plotOptions": {
        "customPlotOptions": {},
        "displayType": "table",
        "pivotAggregation": null,
        "pivotColumns": null,
        "xColumns": null,
        "yColumns": null
       },
       "removedWidgets": [],
       "schema": [
        {
         "metadata": "{}",
         "name": "EmployeeID",
         "type": "\"integer\""
        },
        {
         "metadata": "{\"__CHAR_VARCHAR_TYPE_STRING\": \"varchar(100)\"}",
         "name": "Name",
         "type": "\"string\""
        },
        {
         "metadata": "{}",
         "name": "ManagerID",
         "type": "\"integer\""
        },
        {
         "metadata": "{}",
         "name": "ManagementHierarchy",
         "type": "\"string\""
        }
       ],
       "type": "table"
      }
     },
     "output_type": "display_data"
    }
   ],
   "source": [
    "%sql\n",
    "WITH EmployeeHierarchy AS (\n",
    "  SELECT e.EmployeeID,\n",
    "         e.ManagementHierarchy,\n",
    "         SPLIT(e.ManagementHierarchy, '-')[SIZE(SPLIT(e.ManagementHierarchy, '-')) - 1] AS LastHierarchyManagerID,\n",
    "         m.ManagerID AS ManagersManagerID\n",
    "    FROM employees e\n",
    "    JOIN employees m ON CAST(SPLIT(e.ManagementHierarchy, '-')[SIZE(SPLIT(e.ManagementHierarchy, '-')) - 1] AS INT) = m.EmployeeID\n",
    "   WHERE m.ManagerID != 0 -- Don't update if you are the top already\n",
    ")\n",
    "MERGE INTO employees e\n",
    "USING EmployeeHierarchy eh\n",
    "ON e.EmployeeID = eh.EmployeeID\n",
    "WHEN MATCHED\n",
    "THEN UPDATE SET e.ManagementHierarchy = CONCAT(e.ManagementHierarchy, '-', COALESCE(eh.ManagersManagerID, '0'));\n",
    "\n",
    "SELECT *\n",
    "  FROM employees;"
   ]
  },
  {
   "cell_type": "code",
   "execution_count": 0,
   "metadata": {
    "application/vnd.databricks.v1+cell": {
     "cellMetadata": {
      "byteLimit": 2048000,
      "implicitDf": true,
      "rowLimit": 10000
     },
     "collapsed": true,
     "inputWidgets": {},
     "nuid": "66fec86e-d270-421e-b4c1-2315910967d7",
     "showTitle": true,
     "tableResultSettingsMap": {},
     "title": "Done all levels - show check is empty"
    }
   },
   "outputs": [
    {
     "output_type": "display_data",
     "data": {
      "text/html": [
       "<style scoped>\n",
       "  .table-result-container {\n",
       "    max-height: 300px;\n",
       "    overflow: auto;\n",
       "  }\n",
       "  table, th, td {\n",
       "    border: 1px solid black;\n",
       "    border-collapse: collapse;\n",
       "  }\n",
       "  th, td {\n",
       "    padding: 5px;\n",
       "  }\n",
       "  th {\n",
       "    text-align: left;\n",
       "  }\n",
       "</style><div class='table-result-container'><table class='table-result'><thead style='background-color: white'><tr><th>EmployeeID</th><th>Name</th><th>ManagerID</th><th>ManagementHierarchy</th><th>LastHierarchyManagerID</th><th>ManagersManagerID</th></tr></thead><tbody></tbody></table></div>"
      ]
     },
     "metadata": {
      "application/vnd.databricks.v1+output": {
       "addedWidgets": {},
       "aggData": [],
       "aggError": "",
       "aggOverflow": false,
       "aggSchema": [],
       "aggSeriesLimitReached": false,
       "aggType": "",
       "arguments": {},
       "columnCustomDisplayInfos": {},
       "data": [],
       "datasetInfos": [
        {
         "name": "_sqldf",
         "schema": {
          "fields": [
           {
            "metadata": {},
            "name": "EmployeeID",
            "nullable": false,
            "type": "integer"
           },
           {
            "metadata": {
             "__CHAR_VARCHAR_TYPE_STRING": "varchar(100)"
            },
            "name": "Name",
            "nullable": true,
            "type": "string"
           },
           {
            "metadata": {},
            "name": "ManagerID",
            "nullable": true,
            "type": "integer"
           },
           {
            "metadata": {},
            "name": "ManagementHierarchy",
            "nullable": true,
            "type": "string"
           },
           {
            "metadata": {},
            "name": "LastHierarchyManagerID",
            "nullable": false,
            "type": "string"
           },
           {
            "metadata": {},
            "name": "ManagersManagerID",
            "nullable": true,
            "type": "integer"
           }
          ],
          "type": "struct"
         },
         "tableIdentifier": null,
         "typeStr": "pyspark.sql.connect.dataframe.DataFrame"
        }
       ],
       "dbfsResultPath": null,
       "isJsonSchema": true,
       "metadata": {
        "createTempViewForImplicitDf": true,
        "dataframeName": "_sqldf",
        "executionCount": 64
       },
       "overflow": false,
       "plotOptions": {
        "customPlotOptions": {},
        "displayType": "table",
        "pivotAggregation": null,
        "pivotColumns": null,
        "xColumns": null,
        "yColumns": null
       },
       "removedWidgets": [],
       "schema": [
        {
         "metadata": "{}",
         "name": "EmployeeID",
         "type": "\"integer\""
        },
        {
         "metadata": "{\"__CHAR_VARCHAR_TYPE_STRING\": \"varchar(100)\"}",
         "name": "Name",
         "type": "\"string\""
        },
        {
         "metadata": "{}",
         "name": "ManagerID",
         "type": "\"integer\""
        },
        {
         "metadata": "{}",
         "name": "ManagementHierarchy",
         "type": "\"string\""
        },
        {
         "metadata": "{}",
         "name": "LastHierarchyManagerID",
         "type": "\"string\""
        },
        {
         "metadata": "{}",
         "name": "ManagersManagerID",
         "type": "\"integer\""
        }
       ],
       "type": "table"
      }
     },
     "output_type": "display_data"
    }
   ],
   "source": [
    "%sql\n",
    "SELECT e.*,\n",
    "       SPLIT(e.ManagementHierarchy, '-')[SIZE(SPLIT(e.ManagementHierarchy, '-')) - 1] AS LastHierarchyManagerID,\n",
    "       m.ManagerID AS ManagersManagerID\n",
    "  FROM employees e\n",
    "  LEFT OUTER JOIN employees m ON SPLIT(e.ManagementHierarchy, '-')[SIZE(SPLIT(e.ManagementHierarchy, '-')) - 1] = m.EmployeeID\n",
    " WHERE SPLIT(e.ManagementHierarchy, '-')[SIZE(SPLIT(e.ManagementHierarchy, '-')) - 1] != 1\n",
    " ORDER BY e.EmployeeID ASC\n",
    ";"
   ]
  },
  {
   "cell_type": "markdown",
   "metadata": {
    "application/vnd.databricks.v1+cell": {
     "cellMetadata": {},
     "inputWidgets": {},
     "nuid": "85153121-41e8-4905-9874-464f8a04863d",
     "showTitle": false,
     "tableResultSettingsMap": {},
     "title": ""
    }
   },
   "source": [
    "## Re-write the above pattern in a single loop"
   ]
  },
  {
   "cell_type": "code",
   "execution_count": 0,
   "metadata": {
    "application/vnd.databricks.v1+cell": {
     "cellMetadata": {
      "byteLimit": 2048000,
      "rowLimit": 10000
     },
     "inputWidgets": {},
     "nuid": "8faa2dc7-4cd3-49ff-97fe-e4652b378e32",
     "showTitle": true,
     "tableResultSettingsMap": {},
     "title": "While more ancestors - merge to hierarchy"
    }
   },
   "outputs": [
    {
     "output_type": "stream",
     "name": "stdout",
     "output_type": "stream",
     "text": [
      "Rows inserted: 0; Rows updated: 17; Rows deleted: 0\nRows inserted: 0; Rows updated: 13; Rows deleted: 0\nRows inserted: 0; Rows updated: 5; Rows deleted: 0\nRows inserted: 0; Rows updated: 0; Rows deleted: 0\n"
     ]
    },
    {
     "output_type": "display_data",
     "data": {
      "text/html": [
       "<style scoped>\n",
       "  .table-result-container {\n",
       "    max-height: 300px;\n",
       "    overflow: auto;\n",
       "  }\n",
       "  table, th, td {\n",
       "    border: 1px solid black;\n",
       "    border-collapse: collapse;\n",
       "  }\n",
       "  th, td {\n",
       "    padding: 5px;\n",
       "  }\n",
       "  th {\n",
       "    text-align: left;\n",
       "  }\n",
       "</style><div class='table-result-container'><table class='table-result'><thead style='background-color: white'><tr><th>EmployeeID</th><th>Name</th><th>ManagerID</th><th>ManagementHierarchy</th><th>HierarchySize</th></tr></thead><tbody><tr><td>1</td><td>Alice</td><td>0</td><td>null</td><td>null</td></tr><tr><td>2</td><td>Bob</td><td>1</td><td>1</td><td>1</td></tr><tr><td>3</td><td>Charlie</td><td>1</td><td>1</td><td>1</td></tr><tr><td>4</td><td>David</td><td>2</td><td>2-1</td><td>2</td></tr><tr><td>5</td><td>Eve</td><td>2</td><td>2-1</td><td>2</td></tr><tr><td>6</td><td>Frank</td><td>3</td><td>3-1</td><td>2</td></tr><tr><td>7</td><td>Grace</td><td>3</td><td>3-1</td><td>2</td></tr><tr><td>8</td><td>Hank</td><td>4</td><td>4-2-1</td><td>3</td></tr><tr><td>9</td><td>Ivy</td><td>4</td><td>4-2-1</td><td>3</td></tr><tr><td>10</td><td>Jack</td><td>5</td><td>5-2-1</td><td>3</td></tr><tr><td>11</td><td>Karen</td><td>5</td><td>5-2-1</td><td>3</td></tr><tr><td>12</td><td>Leo</td><td>6</td><td>6-3-1</td><td>3</td></tr><tr><td>13</td><td>Mona</td><td>6</td><td>6-3-1</td><td>3</td></tr><tr><td>14</td><td>Nina</td><td>7</td><td>7-3-1</td><td>3</td></tr><tr><td>15</td><td>Oscar</td><td>7</td><td>7-3-1</td><td>3</td></tr><tr><td>16</td><td>Paul</td><td>8</td><td>8-4-2-1</td><td>4</td></tr><tr><td>17</td><td>Quinn</td><td>8</td><td>8-4-2-1</td><td>4</td></tr><tr><td>18</td><td>Rose</td><td>9</td><td>9-4-2-1</td><td>4</td></tr><tr><td>19</td><td>Steve</td><td>9</td><td>9-4-2-1</td><td>4</td></tr><tr><td>20</td><td>Tina</td><td>10</td><td>10-5-2-1</td><td>4</td></tr></tbody></table></div>"
      ]
     },
     "metadata": {
      "application/vnd.databricks.v1+output": {
       "addedWidgets": {},
       "aggData": [],
       "aggError": "",
       "aggOverflow": false,
       "aggSchema": [],
       "aggSeriesLimitReached": false,
       "aggType": "",
       "arguments": {},
       "columnCustomDisplayInfos": {},
       "data": [
        [
         1,
         "Alice",
         0,
         null,
         null
        ],
        [
         2,
         "Bob",
         1,
         "1",
         1
        ],
        [
         3,
         "Charlie",
         1,
         "1",
         1
        ],
        [
         4,
         "David",
         2,
         "2-1",
         2
        ],
        [
         5,
         "Eve",
         2,
         "2-1",
         2
        ],
        [
         6,
         "Frank",
         3,
         "3-1",
         2
        ],
        [
         7,
         "Grace",
         3,
         "3-1",
         2
        ],
        [
         8,
         "Hank",
         4,
         "4-2-1",
         3
        ],
        [
         9,
         "Ivy",
         4,
         "4-2-1",
         3
        ],
        [
         10,
         "Jack",
         5,
         "5-2-1",
         3
        ],
        [
         11,
         "Karen",
         5,
         "5-2-1",
         3
        ],
        [
         12,
         "Leo",
         6,
         "6-3-1",
         3
        ],
        [
         13,
         "Mona",
         6,
         "6-3-1",
         3
        ],
        [
         14,
         "Nina",
         7,
         "7-3-1",
         3
        ],
        [
         15,
         "Oscar",
         7,
         "7-3-1",
         3
        ],
        [
         16,
         "Paul",
         8,
         "8-4-2-1",
         4
        ],
        [
         17,
         "Quinn",
         8,
         "8-4-2-1",
         4
        ],
        [
         18,
         "Rose",
         9,
         "9-4-2-1",
         4
        ],
        [
         19,
         "Steve",
         9,
         "9-4-2-1",
         4
        ],
        [
         20,
         "Tina",
         10,
         "10-5-2-1",
         4
        ]
       ],
       "datasetInfos": [],
       "dbfsResultPath": null,
       "isJsonSchema": true,
       "metadata": {},
       "overflow": false,
       "plotOptions": {
        "customPlotOptions": {},
        "displayType": "table",
        "pivotAggregation": null,
        "pivotColumns": null,
        "xColumns": null,
        "yColumns": null
       },
       "removedWidgets": [],
       "schema": [
        {
         "metadata": "{}",
         "name": "EmployeeID",
         "type": "\"integer\""
        },
        {
         "metadata": "{\"__CHAR_VARCHAR_TYPE_STRING\": \"varchar(100)\"}",
         "name": "Name",
         "type": "\"string\""
        },
        {
         "metadata": "{}",
         "name": "ManagerID",
         "type": "\"integer\""
        },
        {
         "metadata": "{}",
         "name": "ManagementHierarchy",
         "type": "\"string\""
        },
        {
         "metadata": "{}",
         "name": "HierarchySize",
         "type": "\"integer\""
        }
       ],
       "type": "table"
      }
     },
     "output_type": "display_data"
    }
   ],
   "source": [
    "from delta.tables import *\n",
    "\n",
    "# Reference to the Delta table\n",
    "empTable = DeltaTable.forName(spark, \"employees\")\n",
    "\n",
    "rows_updated = 1\n",
    "\n",
    "while rows_updated > 0:\n",
    "    result = spark.sql(\"\"\"\n",
    "    WITH EmployeeHierarchy AS (\n",
    "      SELECT e.EmployeeID,\n",
    "             e.ManagementHierarchy,\n",
    "             SPLIT(e.ManagementHierarchy, '-')[SIZE(SPLIT(e.ManagementHierarchy, '-')) - 1] AS LastHierarchyManagerID,\n",
    "             m.ManagerID AS ManagersManagerID\n",
    "        FROM employees e\n",
    "        JOIN employees m ON CAST(SPLIT(e.ManagementHierarchy, '-')[SIZE(SPLIT(e.ManagementHierarchy, '-')) - 1] AS INT) = m.EmployeeID\n",
    "       WHERE m.ManagerID != 0 -- Don't update if you are the top already\n",
    "    )\n",
    "    MERGE INTO employees e\n",
    "    USING EmployeeHierarchy eh\n",
    "    ON e.EmployeeID = eh.EmployeeID\n",
    "    WHEN MATCHED\n",
    "    THEN UPDATE SET e.ManagementHierarchy = CONCAT(e.ManagementHierarchy, '-', COALESCE(eh.ManagersManagerID, '0'))\n",
    "    \"\"\")\n",
    "    \n",
    "    # result.count() does not work with merge!!! See below\n",
    "    # merge_count = result.count()\n",
    "    # print(f\"Rows updated via merge: {merge_count}\")\n",
    "\n",
    "    # Get the history of the table\n",
    "    history = empTable.history()\n",
    "    # Get latest merge results from the history table\n",
    "    latest_operation = history.select(\"operationMetrics\").limit(1).collect()[0][0]\n",
    "    # Extract the row counts from the history\n",
    "    rows_inserted = int(latest_operation[\"numTargetRowsInserted\"])\n",
    "    rows_updated = int(latest_operation[\"numTargetRowsUpdated\"])\n",
    "    rows_deleted = int(latest_operation[\"numTargetRowsDeleted\"])\n",
    "\n",
    "    print(f\"Rows inserted: {rows_inserted}; Rows updated: {rows_updated}; Rows deleted: {rows_deleted}\")\n",
    "\n",
    "display(spark.sql(\"SELECT *, SIZE(SPLIT(ManagementHierarchy, '-')) AS HierarchySize FROM employees\"))"
   ]
  },
  {
   "cell_type": "code",
   "execution_count": 0,
   "metadata": {
    "application/vnd.databricks.v1+cell": {
     "cellMetadata": {
      "byteLimit": 2048000,
      "implicitDf": true,
      "rowLimit": 10000
     },
     "inputWidgets": {},
     "nuid": "af2a5e85-a2ee-4175-88ef-6bcb7db0cd93",
     "showTitle": true,
     "tableResultSettingsMap": {},
     "title": "Check results including depth"
    }
   },
   "outputs": [
    {
     "output_type": "display_data",
     "data": {
      "text/html": [
       "<style scoped>\n",
       "  .table-result-container {\n",
       "    max-height: 300px;\n",
       "    overflow: auto;\n",
       "  }\n",
       "  table, th, td {\n",
       "    border: 1px solid black;\n",
       "    border-collapse: collapse;\n",
       "  }\n",
       "  th, td {\n",
       "    padding: 5px;\n",
       "  }\n",
       "  th {\n",
       "    text-align: left;\n",
       "  }\n",
       "</style><div class='table-result-container'><table class='table-result'><thead style='background-color: white'><tr><th>EmployeeID</th><th>Name</th><th>ManagerID</th><th>ManagementHierarchy</th><th>HierarchySize</th></tr></thead><tbody><tr><td>1</td><td>Alice</td><td>0</td><td>null</td><td>null</td></tr><tr><td>2</td><td>Bob</td><td>1</td><td>1</td><td>1</td></tr><tr><td>3</td><td>Charlie</td><td>1</td><td>1</td><td>1</td></tr><tr><td>4</td><td>David</td><td>2</td><td>2-1</td><td>2</td></tr><tr><td>5</td><td>Eve</td><td>2</td><td>2-1</td><td>2</td></tr><tr><td>6</td><td>Frank</td><td>3</td><td>3-1</td><td>2</td></tr><tr><td>7</td><td>Grace</td><td>3</td><td>3-1</td><td>2</td></tr><tr><td>8</td><td>Hank</td><td>4</td><td>4-2-1</td><td>3</td></tr><tr><td>9</td><td>Ivy</td><td>4</td><td>4-2-1</td><td>3</td></tr><tr><td>10</td><td>Jack</td><td>5</td><td>5-2-1</td><td>3</td></tr><tr><td>11</td><td>Karen</td><td>5</td><td>5-2-1</td><td>3</td></tr><tr><td>12</td><td>Leo</td><td>6</td><td>6-3-1</td><td>3</td></tr><tr><td>13</td><td>Mona</td><td>6</td><td>6-3-1</td><td>3</td></tr><tr><td>14</td><td>Nina</td><td>7</td><td>7-3-1</td><td>3</td></tr><tr><td>15</td><td>Oscar</td><td>7</td><td>7-3-1</td><td>3</td></tr><tr><td>16</td><td>Paul</td><td>8</td><td>8-4-2-1</td><td>4</td></tr><tr><td>17</td><td>Quinn</td><td>8</td><td>8-4-2-1</td><td>4</td></tr><tr><td>18</td><td>Rose</td><td>9</td><td>9-4-2-1</td><td>4</td></tr><tr><td>19</td><td>Steve</td><td>9</td><td>9-4-2-1</td><td>4</td></tr><tr><td>20</td><td>Tina</td><td>10</td><td>10-5-2-1</td><td>4</td></tr></tbody></table></div>"
      ]
     },
     "metadata": {
      "application/vnd.databricks.v1+output": {
       "addedWidgets": {},
       "aggData": [],
       "aggError": "",
       "aggOverflow": false,
       "aggSchema": [],
       "aggSeriesLimitReached": false,
       "aggType": "",
       "arguments": {},
       "columnCustomDisplayInfos": {},
       "data": [
        [
         1,
         "Alice",
         0,
         null,
         null
        ],
        [
         2,
         "Bob",
         1,
         "1",
         1
        ],
        [
         3,
         "Charlie",
         1,
         "1",
         1
        ],
        [
         4,
         "David",
         2,
         "2-1",
         2
        ],
        [
         5,
         "Eve",
         2,
         "2-1",
         2
        ],
        [
         6,
         "Frank",
         3,
         "3-1",
         2
        ],
        [
         7,
         "Grace",
         3,
         "3-1",
         2
        ],
        [
         8,
         "Hank",
         4,
         "4-2-1",
         3
        ],
        [
         9,
         "Ivy",
         4,
         "4-2-1",
         3
        ],
        [
         10,
         "Jack",
         5,
         "5-2-1",
         3
        ],
        [
         11,
         "Karen",
         5,
         "5-2-1",
         3
        ],
        [
         12,
         "Leo",
         6,
         "6-3-1",
         3
        ],
        [
         13,
         "Mona",
         6,
         "6-3-1",
         3
        ],
        [
         14,
         "Nina",
         7,
         "7-3-1",
         3
        ],
        [
         15,
         "Oscar",
         7,
         "7-3-1",
         3
        ],
        [
         16,
         "Paul",
         8,
         "8-4-2-1",
         4
        ],
        [
         17,
         "Quinn",
         8,
         "8-4-2-1",
         4
        ],
        [
         18,
         "Rose",
         9,
         "9-4-2-1",
         4
        ],
        [
         19,
         "Steve",
         9,
         "9-4-2-1",
         4
        ],
        [
         20,
         "Tina",
         10,
         "10-5-2-1",
         4
        ]
       ],
       "datasetInfos": [
        {
         "name": "_sqldf",
         "schema": {
          "fields": [
           {
            "metadata": {},
            "name": "EmployeeID",
            "nullable": false,
            "type": "integer"
           },
           {
            "metadata": {
             "__CHAR_VARCHAR_TYPE_STRING": "varchar(100)"
            },
            "name": "Name",
            "nullable": true,
            "type": "string"
           },
           {
            "metadata": {},
            "name": "ManagerID",
            "nullable": true,
            "type": "integer"
           },
           {
            "metadata": {},
            "name": "ManagementHierarchy",
            "nullable": true,
            "type": "string"
           },
           {
            "metadata": {},
            "name": "HierarchySize",
            "nullable": true,
            "type": "integer"
           }
          ],
          "type": "struct"
         },
         "tableIdentifier": null,
         "typeStr": "pyspark.sql.connect.dataframe.DataFrame"
        }
       ],
       "dbfsResultPath": null,
       "isJsonSchema": true,
       "metadata": {
        "createTempViewForImplicitDf": true,
        "dataframeName": "_sqldf",
        "executionCount": 103
       },
       "overflow": false,
       "plotOptions": {
        "customPlotOptions": {},
        "displayType": "table",
        "pivotAggregation": null,
        "pivotColumns": null,
        "xColumns": null,
        "yColumns": null
       },
       "removedWidgets": [],
       "schema": [
        {
         "metadata": "{}",
         "name": "EmployeeID",
         "type": "\"integer\""
        },
        {
         "metadata": "{\"__CHAR_VARCHAR_TYPE_STRING\": \"varchar(100)\"}",
         "name": "Name",
         "type": "\"string\""
        },
        {
         "metadata": "{}",
         "name": "ManagerID",
         "type": "\"integer\""
        },
        {
         "metadata": "{}",
         "name": "ManagementHierarchy",
         "type": "\"string\""
        },
        {
         "metadata": "{}",
         "name": "HierarchySize",
         "type": "\"integer\""
        }
       ],
       "type": "table"
      }
     },
     "output_type": "display_data"
    }
   ],
   "source": [
    "%sql\n",
    "SELECT *,\n",
    "       SIZE(SPLIT(ManagementHierarchy, '-')) AS HierarchySize\n",
    "  FROM employees"
   ]
  },
  {
   "cell_type": "code",
   "execution_count": 0,
   "metadata": {
    "application/vnd.databricks.v1+cell": {
     "cellMetadata": {},
     "inputWidgets": {},
     "nuid": "87b14430-0c20-40c5-8d7e-368b72e94e13",
     "showTitle": false,
     "tableResultSettingsMap": {},
     "title": ""
    }
   },
   "outputs": [],
   "source": [
    "dbutils.notebook.exit(\"Success\")"
   ]
  },
  {
   "cell_type": "markdown",
   "metadata": {
    "application/vnd.databricks.v1+cell": {
     "cellMetadata": {},
     "inputWidgets": {},
     "nuid": "57799eea-2c7c-4c06-b95e-86506a45c099",
     "showTitle": false,
     "tableResultSettingsMap": {},
     "title": ""
    }
   },
   "source": [
    "## Sample Queries"
   ]
  },
  {
   "cell_type": "code",
   "execution_count": 0,
   "metadata": {
    "application/vnd.databricks.v1+cell": {
     "cellMetadata": {
      "byteLimit": 2048000,
      "implicitDf": true,
      "rowLimit": 10000
     },
     "inputWidgets": {},
     "nuid": "f37c2150-5c5d-4a01-9424-9886d2e98fbe",
     "showTitle": true,
     "tableResultSettingsMap": {},
     "title": "Static 4 Level Hierarchy Query"
    }
   },
   "outputs": [
    {
     "output_type": "display_data",
     "data": {
      "text/html": [
       "<style scoped>\n",
       "  .table-result-container {\n",
       "    max-height: 300px;\n",
       "    overflow: auto;\n",
       "  }\n",
       "  table, th, td {\n",
       "    border: 1px solid black;\n",
       "    border-collapse: collapse;\n",
       "  }\n",
       "  th, td {\n",
       "    padding: 5px;\n",
       "  }\n",
       "  th {\n",
       "    text-align: left;\n",
       "  }\n",
       "</style><div class='table-result-container'><table class='table-result'><thead style='background-color: white'><tr><th>EmployeeID</th><th>Name</th><th>ManagerID</th><th>ManagementHierarchy</th><th>L1_ManagerName</th><th>L1_ManagerID</th><th>L2_ManagerName</th><th>L2_ManagerID</th><th>L3_ManagerName</th><th>L3_ManagerID</th><th>L4_ManagerName</th><th>L4_ManagerID</th><th>ManagerHierarchy</th></tr></thead><tbody><tr><td>1</td><td>Alice</td><td>0</td><td>null</td><td>Top</td><td>0</td><td>Top</td><td>0</td><td>Top</td><td>0</td><td>Top</td><td>0</td><td>0-0-0-0-0</td></tr><tr><td>2</td><td>Bob</td><td>1</td><td>1</td><td>Alice</td><td>0</td><td>Top</td><td>0</td><td>Top</td><td>0</td><td>Top</td><td>0</td><td>0-0-0-0-1</td></tr><tr><td>3</td><td>Charlie</td><td>1</td><td>1</td><td>Alice</td><td>0</td><td>Top</td><td>0</td><td>Top</td><td>0</td><td>Top</td><td>0</td><td>0-0-0-0-1</td></tr><tr><td>4</td><td>David</td><td>2</td><td>2-1</td><td>Bob</td><td>1</td><td>Alice</td><td>0</td><td>Top</td><td>0</td><td>Top</td><td>0</td><td>0-0-0-1-2</td></tr><tr><td>5</td><td>Eve</td><td>2</td><td>2-1</td><td>Bob</td><td>1</td><td>Alice</td><td>0</td><td>Top</td><td>0</td><td>Top</td><td>0</td><td>0-0-0-1-2</td></tr><tr><td>6</td><td>Frank</td><td>3</td><td>3-1</td><td>Charlie</td><td>1</td><td>Alice</td><td>0</td><td>Top</td><td>0</td><td>Top</td><td>0</td><td>0-0-0-1-3</td></tr><tr><td>7</td><td>Grace</td><td>3</td><td>3-1</td><td>Charlie</td><td>1</td><td>Alice</td><td>0</td><td>Top</td><td>0</td><td>Top</td><td>0</td><td>0-0-0-1-3</td></tr><tr><td>8</td><td>Hank</td><td>4</td><td>4-2-1</td><td>David</td><td>2</td><td>Bob</td><td>1</td><td>Alice</td><td>0</td><td>Top</td><td>0</td><td>0-0-1-2-4</td></tr><tr><td>9</td><td>Ivy</td><td>4</td><td>4-2-1</td><td>David</td><td>2</td><td>Bob</td><td>1</td><td>Alice</td><td>0</td><td>Top</td><td>0</td><td>0-0-1-2-4</td></tr><tr><td>10</td><td>Jack</td><td>5</td><td>5-2-1</td><td>Eve</td><td>2</td><td>Bob</td><td>1</td><td>Alice</td><td>0</td><td>Top</td><td>0</td><td>0-0-1-2-5</td></tr><tr><td>11</td><td>Karen</td><td>5</td><td>5-2-1</td><td>Eve</td><td>2</td><td>Bob</td><td>1</td><td>Alice</td><td>0</td><td>Top</td><td>0</td><td>0-0-1-2-5</td></tr><tr><td>12</td><td>Leo</td><td>6</td><td>6-3-1</td><td>Frank</td><td>3</td><td>Charlie</td><td>1</td><td>Alice</td><td>0</td><td>Top</td><td>0</td><td>0-0-1-3-6</td></tr><tr><td>13</td><td>Mona</td><td>6</td><td>6-3-1</td><td>Frank</td><td>3</td><td>Charlie</td><td>1</td><td>Alice</td><td>0</td><td>Top</td><td>0</td><td>0-0-1-3-6</td></tr><tr><td>14</td><td>Nina</td><td>7</td><td>7-3-1</td><td>Grace</td><td>3</td><td>Charlie</td><td>1</td><td>Alice</td><td>0</td><td>Top</td><td>0</td><td>0-0-1-3-7</td></tr><tr><td>15</td><td>Oscar</td><td>7</td><td>7-3-1</td><td>Grace</td><td>3</td><td>Charlie</td><td>1</td><td>Alice</td><td>0</td><td>Top</td><td>0</td><td>0-0-1-3-7</td></tr><tr><td>16</td><td>Paul</td><td>8</td><td>8-4-2-1</td><td>Hank</td><td>4</td><td>David</td><td>2</td><td>Bob</td><td>1</td><td>Alice</td><td>0</td><td>0-1-2-4-8</td></tr><tr><td>17</td><td>Quinn</td><td>8</td><td>8-4-2-1</td><td>Hank</td><td>4</td><td>David</td><td>2</td><td>Bob</td><td>1</td><td>Alice</td><td>0</td><td>0-1-2-4-8</td></tr><tr><td>18</td><td>Rose</td><td>9</td><td>9-4-2-1</td><td>Ivy</td><td>4</td><td>David</td><td>2</td><td>Bob</td><td>1</td><td>Alice</td><td>0</td><td>0-1-2-4-9</td></tr><tr><td>19</td><td>Steve</td><td>9</td><td>9-4-2-1</td><td>Ivy</td><td>4</td><td>David</td><td>2</td><td>Bob</td><td>1</td><td>Alice</td><td>0</td><td>0-1-2-4-9</td></tr><tr><td>20</td><td>Tina</td><td>10</td><td>10-5-2-1</td><td>Jack</td><td>5</td><td>Eve</td><td>2</td><td>Bob</td><td>1</td><td>Alice</td><td>0</td><td>0-1-2-5-10</td></tr></tbody></table></div>"
      ]
     },
     "metadata": {
      "application/vnd.databricks.v1+output": {
       "addedWidgets": {},
       "aggData": [],
       "aggError": "",
       "aggOverflow": false,
       "aggSchema": [],
       "aggSeriesLimitReached": false,
       "aggType": "",
       "arguments": {},
       "columnCustomDisplayInfos": {},
       "data": [
        [
         1,
         "Alice",
         0,
         null,
         "Top",
         "0",
         "Top",
         "0",
         "Top",
         "0",
         "Top",
         "0",
         "0-0-0-0-0"
        ],
        [
         2,
         "Bob",
         1,
         "1",
         "Alice",
         "0",
         "Top",
         "0",
         "Top",
         "0",
         "Top",
         "0",
         "0-0-0-0-1"
        ],
        [
         3,
         "Charlie",
         1,
         "1",
         "Alice",
         "0",
         "Top",
         "0",
         "Top",
         "0",
         "Top",
         "0",
         "0-0-0-0-1"
        ],
        [
         4,
         "David",
         2,
         "2-1",
         "Bob",
         "1",
         "Alice",
         "0",
         "Top",
         "0",
         "Top",
         "0",
         "0-0-0-1-2"
        ],
        [
         5,
         "Eve",
         2,
         "2-1",
         "Bob",
         "1",
         "Alice",
         "0",
         "Top",
         "0",
         "Top",
         "0",
         "0-0-0-1-2"
        ],
        [
         6,
         "Frank",
         3,
         "3-1",
         "Charlie",
         "1",
         "Alice",
         "0",
         "Top",
         "0",
         "Top",
         "0",
         "0-0-0-1-3"
        ],
        [
         7,
         "Grace",
         3,
         "3-1",
         "Charlie",
         "1",
         "Alice",
         "0",
         "Top",
         "0",
         "Top",
         "0",
         "0-0-0-1-3"
        ],
        [
         8,
         "Hank",
         4,
         "4-2-1",
         "David",
         "2",
         "Bob",
         "1",
         "Alice",
         "0",
         "Top",
         "0",
         "0-0-1-2-4"
        ],
        [
         9,
         "Ivy",
         4,
         "4-2-1",
         "David",
         "2",
         "Bob",
         "1",
         "Alice",
         "0",
         "Top",
         "0",
         "0-0-1-2-4"
        ],
        [
         10,
         "Jack",
         5,
         "5-2-1",
         "Eve",
         "2",
         "Bob",
         "1",
         "Alice",
         "0",
         "Top",
         "0",
         "0-0-1-2-5"
        ],
        [
         11,
         "Karen",
         5,
         "5-2-1",
         "Eve",
         "2",
         "Bob",
         "1",
         "Alice",
         "0",
         "Top",
         "0",
         "0-0-1-2-5"
        ],
        [
         12,
         "Leo",
         6,
         "6-3-1",
         "Frank",
         "3",
         "Charlie",
         "1",
         "Alice",
         "0",
         "Top",
         "0",
         "0-0-1-3-6"
        ],
        [
         13,
         "Mona",
         6,
         "6-3-1",
         "Frank",
         "3",
         "Charlie",
         "1",
         "Alice",
         "0",
         "Top",
         "0",
         "0-0-1-3-6"
        ],
        [
         14,
         "Nina",
         7,
         "7-3-1",
         "Grace",
         "3",
         "Charlie",
         "1",
         "Alice",
         "0",
         "Top",
         "0",
         "0-0-1-3-7"
        ],
        [
         15,
         "Oscar",
         7,
         "7-3-1",
         "Grace",
         "3",
         "Charlie",
         "1",
         "Alice",
         "0",
         "Top",
         "0",
         "0-0-1-3-7"
        ],
        [
         16,
         "Paul",
         8,
         "8-4-2-1",
         "Hank",
         "4",
         "David",
         "2",
         "Bob",
         "1",
         "Alice",
         "0",
         "0-1-2-4-8"
        ],
        [
         17,
         "Quinn",
         8,
         "8-4-2-1",
         "Hank",
         "4",
         "David",
         "2",
         "Bob",
         "1",
         "Alice",
         "0",
         "0-1-2-4-8"
        ],
        [
         18,
         "Rose",
         9,
         "9-4-2-1",
         "Ivy",
         "4",
         "David",
         "2",
         "Bob",
         "1",
         "Alice",
         "0",
         "0-1-2-4-9"
        ],
        [
         19,
         "Steve",
         9,
         "9-4-2-1",
         "Ivy",
         "4",
         "David",
         "2",
         "Bob",
         "1",
         "Alice",
         "0",
         "0-1-2-4-9"
        ],
        [
         20,
         "Tina",
         10,
         "10-5-2-1",
         "Jack",
         "5",
         "Eve",
         "2",
         "Bob",
         "1",
         "Alice",
         "0",
         "0-1-2-5-10"
        ]
       ],
       "datasetInfos": [
        {
         "name": "_sqldf",
         "schema": {
          "fields": [
           {
            "metadata": {},
            "name": "EmployeeID",
            "nullable": false,
            "type": "integer"
           },
           {
            "metadata": {
             "__CHAR_VARCHAR_TYPE_STRING": "varchar(100)"
            },
            "name": "Name",
            "nullable": true,
            "type": "string"
           },
           {
            "metadata": {},
            "name": "ManagerID",
            "nullable": true,
            "type": "integer"
           },
           {
            "metadata": {},
            "name": "ManagementHierarchy",
            "nullable": true,
            "type": "string"
           },
           {
            "metadata": {},
            "name": "L1_ManagerName",
            "nullable": true,
            "type": "string"
           },
           {
            "metadata": {},
            "name": "L1_ManagerID",
            "nullable": true,
            "type": "string"
           },
           {
            "metadata": {},
            "name": "L2_ManagerName",
            "nullable": true,
            "type": "string"
           },
           {
            "metadata": {},
            "name": "L2_ManagerID",
            "nullable": true,
            "type": "string"
           },
           {
            "metadata": {},
            "name": "L3_ManagerName",
            "nullable": true,
            "type": "string"
           },
           {
            "metadata": {},
            "name": "L3_ManagerID",
            "nullable": true,
            "type": "string"
           },
           {
            "metadata": {},
            "name": "L4_ManagerName",
            "nullable": true,
            "type": "string"
           },
           {
            "metadata": {},
            "name": "L4_ManagerID",
            "nullable": true,
            "type": "string"
           },
           {
            "metadata": {},
            "name": "ManagerHierarchy",
            "nullable": true,
            "type": "string"
           }
          ],
          "type": "struct"
         },
         "tableIdentifier": null,
         "typeStr": "pyspark.sql.connect.dataframe.DataFrame"
        }
       ],
       "dbfsResultPath": null,
       "isJsonSchema": true,
       "metadata": {
        "createTempViewForImplicitDf": true,
        "dataframeName": "_sqldf",
        "executionCount": 96
       },
       "overflow": false,
       "plotOptions": {
        "customPlotOptions": {},
        "displayType": "table",
        "pivotAggregation": null,
        "pivotColumns": null,
        "xColumns": null,
        "yColumns": null
       },
       "removedWidgets": [],
       "schema": [
        {
         "metadata": "{}",
         "name": "EmployeeID",
         "type": "\"integer\""
        },
        {
         "metadata": "{\"__CHAR_VARCHAR_TYPE_STRING\": \"varchar(100)\"}",
         "name": "Name",
         "type": "\"string\""
        },
        {
         "metadata": "{}",
         "name": "ManagerID",
         "type": "\"integer\""
        },
        {
         "metadata": "{}",
         "name": "ManagementHierarchy",
         "type": "\"string\""
        },
        {
         "metadata": "{}",
         "name": "L1_ManagerName",
         "type": "\"string\""
        },
        {
         "metadata": "{}",
         "name": "L1_ManagerID",
         "type": "\"string\""
        },
        {
         "metadata": "{}",
         "name": "L2_ManagerName",
         "type": "\"string\""
        },
        {
         "metadata": "{}",
         "name": "L2_ManagerID",
         "type": "\"string\""
        },
        {
         "metadata": "{}",
         "name": "L3_ManagerName",
         "type": "\"string\""
        },
        {
         "metadata": "{}",
         "name": "L3_ManagerID",
         "type": "\"string\""
        },
        {
         "metadata": "{}",
         "name": "L4_ManagerName",
         "type": "\"string\""
        },
        {
         "metadata": "{}",
         "name": "L4_ManagerID",
         "type": "\"string\""
        },
        {
         "metadata": "{}",
         "name": "ManagerHierarchy",
         "type": "\"string\""
        }
       ],
       "type": "table"
      }
     },
     "output_type": "display_data"
    }
   ],
   "source": [
    "%sql\n",
    "        --  CASE \n",
    "        --    WHEN l4.ManagerID IS NULL THEN '0' \n",
    "        --    ELSE CAST(l4.ManagerID AS STRING) \n",
    "        --  END,\n",
    "        --  '-',\n",
    "        --  CASE \n",
    "        --    WHEN l3.ManagerID IS NULL THEN '0' \n",
    "        --    ELSE CAST(l3.ManagerID AS STRING) \n",
    "        --  END,\n",
    "        --  '-',\n",
    "        --  CASE \n",
    "        --    WHEN l2.ManagerID IS NULL THEN '0' \n",
    "        --    ELSE CAST(l2.ManagerID AS STRING) \n",
    "        --  END,\n",
    "        --  '-',\n",
    "        --  CASE \n",
    "        --    WHEN l1.ManagerID IS NULL THEN '0' \n",
    "        --    ELSE CAST(l1.ManagerID AS STRING) \n",
    "        --  END,\n",
    "        --  '-',\n",
    "        --  CAST(e.ManagerID AS STRING)\n",
    "\n",
    "SELECT e.*, -- EXCEPT (ManagementHierarchy), <== This is the right answer, so hide\n",
    "      --  l1.Name AS L1_ManagerName,\n",
    "      --  l1.ManagerID AS L1_ManagerID,\n",
    "       CASE \n",
    "         WHEN l1.Name IS NULL THEN 'Top' \n",
    "         ELSE l1.Name\n",
    "       END AS L1_ManagerName,\n",
    "       CASE \n",
    "         WHEN l1.ManagerID IS NULL THEN '0' \n",
    "         ELSE CAST(l1.ManagerID AS STRING) \n",
    "       END AS L1_ManagerID,\n",
    "      --  l2.Name AS L2_ManagerName,\n",
    "      --  l2.ManagerID AS L2_ManagerID,\n",
    "       CASE \n",
    "         WHEN l2.Name IS NULL THEN 'Top' \n",
    "         ELSE l2.Name\n",
    "       END AS L2_ManagerName,\n",
    "       CASE \n",
    "         WHEN l2.ManagerID IS NULL THEN '0' \n",
    "         ELSE CAST(l2.ManagerID AS STRING) \n",
    "       END AS L2_ManagerID,\n",
    "      --  l3.Name AS L3_ManagerName,\n",
    "      --  l3.ManagerID AS L3_ManagerID,\n",
    "       CASE \n",
    "         WHEN l3.Name IS NULL THEN 'Top' \n",
    "         ELSE l3.Name\n",
    "       END AS L3_ManagerName,\n",
    "       CASE \n",
    "         WHEN l3.ManagerID IS NULL THEN '0' \n",
    "         ELSE CAST(l3.ManagerID AS STRING) \n",
    "       END AS L3_ManagerID,\n",
    "      --  l4.Name AS L4_ManagerName,\n",
    "      --  l4.ManagerID AS L4_ManagerID,\n",
    "       CASE \n",
    "         WHEN l4.Name IS NULL THEN 'Top' \n",
    "         ELSE l4.Name\n",
    "       END AS L4_ManagerName,\n",
    "       CASE \n",
    "         WHEN l4.ManagerID IS NULL THEN '0' \n",
    "         ELSE CAST(l4.ManagerID AS STRING) \n",
    "       END AS L4_ManagerID,\n",
    "       CONCAT(\n",
    "         L4_ManagerID,\n",
    "         '-',\n",
    "         L3_ManagerID,\n",
    "         '-',\n",
    "         L2_ManagerID,\n",
    "         '-',\n",
    "         L1_ManagerID,\n",
    "         '-',\n",
    "         CAST(e.ManagerID AS STRING)\n",
    "       ) AS ManagerHierarchy\n",
    "  FROM employees e\n",
    "  LEFT OUTER JOIN employees l1\n",
    "    ON l1.EmployeeID = e.ManagerID\n",
    "  LEFT OUTER JOIN employees l2\n",
    "    ON l2.EmployeeID = l1.ManagerID\n",
    "  LEFT OUTER JOIN employees l3\n",
    "    ON l3.EmployeeID = l2.ManagerID\n",
    "  LEFT OUTER JOIN employees l4\n",
    "    ON l4.EmployeeID = l3.ManagerID\n",
    "--  ORDER BY ManagerHierarchy ASC\n",
    " ORDER BY e.EmployeeID ASC\n",
    ";"
   ]
  },
  {
   "cell_type": "code",
   "execution_count": 0,
   "metadata": {
    "application/vnd.databricks.v1+cell": {
     "cellMetadata": {},
     "inputWidgets": {},
     "nuid": "24b0131c-3774-4182-95f1-fdcd02a48c03",
     "showTitle": false,
     "tableResultSettingsMap": {},
     "title": ""
    }
   },
   "outputs": [],
   "source": []
  }
 ],
 "metadata": {
  "application/vnd.databricks.v1+notebook": {
   "computePreferences": null,
   "dashboards": [],
   "environmentMetadata": {
    "base_environment": "",
    "client": "2"
   },
   "language": "python",
   "notebookMetadata": {
    "mostRecentlyExecutedCommandWithImplicitDF": {
     "commandId": 1017194466849390,
     "dataframes": [
      "_sqldf"
     ]
    },
    "pythonIndentUnit": 2
   },
   "notebookName": "Employee Hierarchies",
   "widgets": {}
  },
  "language_info": {
   "name": "python"
  }
 },
 "nbformat": 4,
 "nbformat_minor": 0
}
